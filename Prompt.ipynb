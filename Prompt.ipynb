{
 "cells": [
  {
   "cell_type": "markdown",
   "id": "5d5b0f19-00b4-4c68-a97d-677c3c62d963",
   "metadata": {},
   "source": [
    "#  Prompt Engineering Portfolio\n",
    "\n",
    "A collection of my prompt engineering experiments and outputs"
   ]
  },
  {
   "cell_type": "markdown",
   "id": "243b40e6-3ee9-40b0-993e-30dbecfca702",
   "metadata": {},
   "source": [
    "##  Prompt 1: Text Summarizer (Under 500 Characters)"
   ]
  },
  {
   "cell_type": "markdown",
   "id": "2133531e-bc6b-46cf-bbf4-7b55ac00e2f7",
   "metadata": {},
   "source": [
    "**Goal:** Summarize a given passage into 3–5 sentences under 500 characters, maintaining the main idea and factual accuracy."
   ]
  },
  {
   "cell_type": "markdown",
   "id": "ae1db6af-9522-4b49-ab44-ea839d48566b",
   "metadata": {},
   "source": [
    "**Prompt:**"
   ]
  },
  {
   "cell_type": "markdown",
   "id": "fae84b50-7ef6-4874-bdb1-36371f73edd9",
   "metadata": {},
   "source": [
    "You are an expert summarizer. Summarize the text enclosed in delimiter in 3–5 sentences.\n",
    "Make sure the total characters are strictly below 500 characters.\n",
    "Capture the most important idea of the article as one point.\n",
    "Include necessary details and stick to the original text only.\n",
    "Give the output in the form of text.\n"
   ]
  },
  {
   "cell_type": "markdown",
   "id": "4f553c7b-0114-4e36-bf1a-c25145e1331b",
   "metadata": {},
   "source": [
    "### Code cell (Simulated example)\n",
    "\n"
   ]
  },
  {
   "cell_type": "markdown",
   "id": "00ff5b7a-4ac9-41be-b798-7162d9d303a7",
   "metadata": {},
   "source": [
    "text = \"\"\"Artificial intelligence (AI) is rapidly changing our world. From healthcare to transportation, \n",
    "AI applications are ubiquitous. In healthcare, AI can now help doctors diagnose diseases more accurately, \n",
    "even exceeding the capabilities of human experts in some areas. In the transportation sector, autonomous \n",
    "driving technology is developing rapidly and may completely change our way of travel in the coming years. \n",
    "However, the development of AI also brings some concerns. Issues such as data privacy, algorithmic bias, \n",
    "and job changes due to automation all require careful consideration and resolution. Nevertheless, the potential \n",
    "of AI is enormous, and if we can properly handle these challenges, AI will create a better future for humanity.\"\"\"\n",
    "\n"
   ]
  },
  {
   "cell_type": "markdown",
   "id": "b0c91b20-09c0-43c2-936e-e042ec00615c",
   "metadata": {},
   "source": [
    "### Output:\n"
   ]
  },
  {
   "cell_type": "markdown",
   "id": "626a6672-49c4-4c9b-98b4-4fc12d67d67a",
   "metadata": {},
   "source": [
    "Artificial intelligence (AI) is transforming multiple fields, including healthcare and transportation. It enhances disease diagnosis and drives progress in autonomous vehicles. Despite its potential, AI raises concerns over privacy, bias, and job loss. Managing these issues responsibly can ensure AI contributes positively to humanity’s future."
   ]
  }
 ],
 "metadata": {
  "kernelspec": {
   "display_name": "Python 3 (ipykernel)",
   "language": "python",
   "name": "python3"
  },
  "language_info": {
   "codemirror_mode": {
    "name": "ipython",
    "version": 3
   },
   "file_extension": ".py",
   "mimetype": "text/x-python",
   "name": "python",
   "nbconvert_exporter": "python",
   "pygments_lexer": "ipython3",
   "version": "3.13.5"
  }
 },
 "nbformat": 4,
 "nbformat_minor": 5
}
